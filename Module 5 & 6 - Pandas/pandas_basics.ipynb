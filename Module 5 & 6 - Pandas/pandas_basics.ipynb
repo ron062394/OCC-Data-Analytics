{
 "cells": [
  {
   "cell_type": "markdown",
   "metadata": {},
   "source": [
    "# **Pandas Basics**\n",
    "\n",
    "### **Install pandas package**"
   ]
  },
  {
   "cell_type": "code",
   "execution_count": null,
   "metadata": {},
   "outputs": [],
   "source": []
  },
  {
   "cell_type": "markdown",
   "metadata": {},
   "source": [
    "### **Import pandas**"
   ]
  },
  {
   "cell_type": "code",
   "execution_count": null,
   "metadata": {},
   "outputs": [],
   "source": []
  },
  {
   "cell_type": "markdown",
   "metadata": {},
   "source": [
    "## **DataFrames**\n",
    "A DataFrame is a two-dimensional labeled data structure with columns of potentially \n",
    "different data types, similar to a spreadsheet or SQL table. \n",
    "It provides a powerful and flexible way to manipulate and analyze structured data in Python, \n",
    "offering functionalities for data analysis."
   ]
  },
  {
   "cell_type": "code",
   "execution_count": null,
   "metadata": {},
   "outputs": [],
   "source": []
  },
  {
   "cell_type": "markdown",
   "metadata": {},
   "source": [
    "## **Series**\n",
    "\n",
    "A pandas Series is a one-dimensional labeled array capable of \n",
    "holding data of any type (integer, string, float, etc.). \n",
    "It's similar to a one-column table or an array with associated labels, \n",
    "providing powerful indexing and manipulation capabilities in Python."
   ]
  },
  {
   "cell_type": "code",
   "execution_count": null,
   "metadata": {},
   "outputs": [],
   "source": []
  },
  {
   "cell_type": "markdown",
   "metadata": {},
   "source": [
    "### **Pandas Data Types**\n",
    "\n",
    "Numeric:\n",
    "- Integer (int64): Represents whole numbers (e.g., 10, -5). \n",
    "    This is the default integer type in pandas. (64 bit integer)\n",
    "- Float (float64): Represents numbers with decimals (e.g., 3.14, -12.5).\n",
    "- Boolean (bool): Represents logical True or False values.\n",
    "- Object: This is a versatile but less efficient type that can store various data types \n",
    "like strings, lists, or custom objects. \n",
    "    Pandas uses this type when it cannot infer a more specific data type."
   ]
  },
  {
   "cell_type": "code",
   "execution_count": null,
   "metadata": {},
   "outputs": [],
   "source": []
  },
  {
   "cell_type": "markdown",
   "metadata": {},
   "source": [
    "Specialized Data Types:\n",
    "- Datetime (datetime64[ns]): Represents dates and times with nanosecond precision. \n",
    "    Useful for time-series data analysis.\n",
    "- Timedelta (timedelta64[ns]): Represents durations between timestamps.\n",
    "- Categorical: Represents categorical data with predefined categories. \n",
    "    Efficient for storing limited sets of categories.\n",
    "- Sparse: Represents sparse data with many missing values. \n",
    "    Stores data efficiently by only keeping non-zero values."
   ]
  },
  {
   "cell_type": "code",
   "execution_count": null,
   "metadata": {},
   "outputs": [],
   "source": []
  },
  {
   "cell_type": "markdown",
   "metadata": {},
   "source": [
    "### **Changing Data Types**"
   ]
  },
  {
   "cell_type": "code",
   "execution_count": null,
   "metadata": {},
   "outputs": [],
   "source": []
  },
  {
   "cell_type": "markdown",
   "metadata": {},
   "source": [
    "**Example: Sales Data Analysis**\n",
    "\n",
    "You have a dataset of sales transactions that includes the product name, quantity sold, and sale price. \n",
    "You want to analyze the data to find the total revenue per product."
   ]
  },
  {
   "cell_type": "code",
   "execution_count": null,
   "metadata": {},
   "outputs": [],
   "source": [
    "data = {\n",
    "    'Product Name':['A','B','C','A','B','A'],\n",
    "    'Quantity Sold':[3,2,5,4,1,2],\n",
    "    'Sale Price':[10,20,10,15,20,15]\n",
    "}"
   ]
  },
  {
   "cell_type": "code",
   "execution_count": null,
   "metadata": {},
   "outputs": [],
   "source": []
  },
  {
   "cell_type": "markdown",
   "metadata": {},
   "source": [
    "### **Data Selection**\n",
    "\n",
    "Pandas provides numerous methods for selecting and indexing data in Series and DataFrames, \n",
    "including label-based indexing with .loc, integer-position based indexing with .iloc, and conditional selection."
   ]
  },
  {
   "cell_type": "code",
   "execution_count": null,
   "metadata": {},
   "outputs": [],
   "source": []
  },
  {
   "cell_type": "markdown",
   "metadata": {},
   "source": [
    "### **Data Selection in Series**"
   ]
  },
  {
   "cell_type": "code",
   "execution_count": null,
   "metadata": {},
   "outputs": [],
   "source": []
  },
  {
   "cell_type": "markdown",
   "metadata": {},
   "source": [
    "### **Data Selection in DataFrame**\n",
    "\n",
    "#### **Index Location (.iloc)**\n",
    "- Will get rows based on a number/index.\n",
    "- Will output into a DataFrame instead of a Series.\n",
    "> Syntax: [starting_index:ending_index(excluded):step/traversal method]"
   ]
  },
  {
   "cell_type": "code",
   "execution_count": null,
   "metadata": {},
   "outputs": [],
   "source": []
  },
  {
   "cell_type": "markdown",
   "metadata": {},
   "source": [
    "#### **Location (.loc)**\n",
    "- Access a group of rows and columns by label(s) or a boolean array.\n",
    "> Syntax: [starting_index:ending_index(included):step/traversal method]"
   ]
  },
  {
   "cell_type": "code",
   "execution_count": null,
   "metadata": {},
   "outputs": [],
   "source": []
  },
  {
   "cell_type": "markdown",
   "metadata": {},
   "source": [
    "## **Conditional Filtering** "
   ]
  },
  {
   "cell_type": "code",
   "execution_count": null,
   "metadata": {},
   "outputs": [],
   "source": []
  },
  {
   "cell_type": "markdown",
   "metadata": {},
   "source": [
    "## **Apply**\n",
    "\n",
    "The apply function in pandas is a powerful tool for working with DataFrames. \n",
    "It allows you to apply a custom function to each element (row or column) of the DataFrame \n",
    "and return a new DataFrame or Series based on the results."
   ]
  },
  {
   "cell_type": "code",
   "execution_count": null,
   "metadata": {},
   "outputs": [],
   "source": []
  },
  {
   "cell_type": "markdown",
   "metadata": {},
   "source": [
    "## Pandas Operators\n",
    "\n",
    "Data Loading and Exploration:\n",
    "\n",
    "- head(): Shows the first few rows of a DataFrame\n",
    "- tail(): Shows the last few rows of a DataFrame\n",
    "- describe(): Generates summary statistics for each column (mean, standard deviation, etc.)\n",
    "- info(): Displays information about the DataFrame, including data types and memory usage\n",
    "\n",
    "Data Analysis:\n",
    "\n",
    "- sum(): Calculates the sum of a Series or DataFrame\n",
    "- mean(): Calculates the mean of a Series or DataFrame\n",
    "- median(): Calculates the median of a Series or DataFrame\n",
    "- std(): Calculates the standard deviation of a Series or DataFrame\n",
    "- var(): Calculates the variance of a Series or DataFrame"
   ]
  },
  {
   "cell_type": "code",
   "execution_count": null,
   "metadata": {},
   "outputs": [],
   "source": [
    "reviews_data = {\n",
    "    'ProductID': ['P1', 'P2', 'P3', 'P4', 'P5', 'P6', 'P7', 'P8', 'P9', 'P10'],\n",
    "    'Rating': [5, 3, 2, 3, 4, 5, 2, 4, 3, 1]\n",
    "}"
   ]
  },
  {
   "cell_type": "code",
   "execution_count": null,
   "metadata": {},
   "outputs": [],
   "source": []
  },
  {
   "cell_type": "markdown",
   "metadata": {},
   "source": [
    "### **Importing and Exporting Data**\n",
    "\n",
    "Pandas supports reading from and writing to a variety of file formats, \n",
    "including CSV, Excel, SQL, making it easy to integrate with data analysis workflows."
   ]
  },
  {
   "cell_type": "code",
   "execution_count": null,
   "metadata": {},
   "outputs": [],
   "source": []
  }
 ],
 "metadata": {
  "language_info": {
   "name": "python"
  }
 },
 "nbformat": 4,
 "nbformat_minor": 2
}
