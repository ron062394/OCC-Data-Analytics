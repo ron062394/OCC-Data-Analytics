{
 "cells": [
  {
   "cell_type": "code",
   "execution_count": 1,
   "metadata": {},
   "outputs": [],
   "source": [
    "# Enabling our extension\n",
    "%load_ext sql\n",
    "\n",
    "# connect the database\n",
    "%sql sqlite:///abc-corp.db"
   ]
  },
  {
   "cell_type": "markdown",
   "metadata": {},
   "source": []
  },
  {
   "cell_type": "markdown",
   "metadata": {},
   "source": [
    "## HAVING\n",
    "\n",
    "The **HAVING** clause is used to filter groups of rows created by the GROUP BY clause based on conditions applied to aggregate functions. This allows you to focus on specific groups that meet certain criteria within your summarized data."
   ]
  },
  {
   "cell_type": "code",
   "execution_count": 3,
   "metadata": {},
   "outputs": [
    {
     "name": "stdout",
     "output_type": "stream",
     "text": [
      " * sqlite:///abc-corp.db\n",
      "Done.\n",
      "Done.\n"
     ]
    },
    {
     "data": {
      "text/plain": [
       "[]"
      ]
     },
     "execution_count": 3,
     "metadata": {},
     "output_type": "execute_result"
    }
   ],
   "source": [
    "%%sql\n",
    "\n",
    "SELECT department, COUNT(*) AS employee_count\n",
    "FROM employees\n",
    "GROUP BY department\n",
    "HAVING employee_count > 3;\n",
    "/* This finds departments with more thean 3 employees */"
   ]
  },
  {
   "cell_type": "code",
   "execution_count": 2,
   "metadata": {},
   "outputs": [
    {
     "name": "stdout",
     "output_type": "stream",
     "text": [
      " * sqlite:///abc-corp.db\n",
      "Done.\n",
      "Done.\n"
     ]
    },
    {
     "data": {
      "text/plain": [
       "[]"
      ]
     },
     "execution_count": 2,
     "metadata": {},
     "output_type": "execute_result"
    }
   ],
   "source": [
    "%%sql\n",
    "SELECT department, AVG(salary) AS avg_salary, COUNT(*) AS num_employees\n",
    "FROM employees\n",
    "WHERE salary > 40000\n",
    "GROUP BY department\n",
    "HAVING AVG(salary) > 50000 AND COUNT(*) > 3;\n",
    "/* Find departments with an average salary greater than 50000 and where the number of employees is greater than 3. */ "
   ]
  },
  {
   "cell_type": "markdown",
   "metadata": {},
   "source": [
    "## JOIN\n",
    "\n",
    "The JOIN clause is used to combine rows from two or more tables based on a related column between them. It allows you to retrieve data from multiple tables simultaneously, creating a single result set."
   ]
  },
  {
   "cell_type": "code",
   "execution_count": null,
   "metadata": {},
   "outputs": [],
   "source": [
    "%%sql\n",
    "\n",
    "-- INNER JOIN\n",
    "SELECT employee_id, first_name, last_name, department_name\n",
    "FROM employees\n",
    "INNER JOIN departments ON department = department_name\n",
    "\n",
    "/*\n",
    "  This query retrieves only employees who belong to departments that exist in the departments table.\n",
    "  It matches rows based on the department column in the employees table and the department_name column in the departments table.\n",
    "*/\n",
    "\n",
    "\n",
    "-- LEFT JOIN\n",
    "SELECT e.employee_id, e.first_name, e.last_name, d.department_name, e.hire_date\n",
    "FROM employees AS e\n",
    "LEFT JOIN departments AS d ON e.department = d.department_name;\n",
    "\n",
    "/*\n",
    "  This query retrieves all employees from the employees table, even if their department doesn't exist in the departments table.\n",
    "  It matches rows based on the department column in the employees table and the department_name column in the departments table.\n",
    "  However, for employees whose department isn't found in departments, the department_name will be null.\n",
    "*/\n",
    "\n",
    "\n",
    "-- RIGHT JOIN\n",
    "SELECT e.employee_id, e.first_name, e.last_name, d.department_name, e.hire_date\n",
    "FROM employees AS e\n",
    "RIGHT JOIN departments AS d ON e.department = d.department_name;\n",
    "\n",
    "/*\n",
    "  This query retrieves all departments from the departments table, even if there are no employees associated with that department in the employees table.\n",
    "  It matches rows based on the department column in the employees table and the department_name column in the departments table.\n",
    "  However, for departments without matching employees, the employee information columns will be null.\n",
    "*/\n",
    "\n",
    "\n",
    "-- FULL JOIN\n",
    "SELECT e.employee_id, e.first_name, e.last_name, d.department_name, e.salary, e.hire_date\n",
    "FROM employees AS e\n",
    "FULL JOIN departments AS d ON e.department = d.department_name;\n",
    "\n",
    "/*\n",
    "  This query retrieves all employees from the employees table and all departments from the departments table, regardless of whether there's a matching row in the other table.\n",
    "  It combines the results from both left join and right join, potentially including null values in either employee or department information when there's no match.\n",
    "*/\n",
    "\n",
    "\n",
    "-- CROSS JOIN\n",
    "SELECT e.first_name, e.last_name, d.department_name\n",
    "FROM employees AS e\n",
    "CROSS JOIN departments AS d\n",
    "LIMIT 20;\n",
    "\n",
    "/*\n",
    "  This query will result in a large dataset where every employee name is paired with every department name,\n",
    "  even though there might not be a real-world relationship between them (e.g., an employee might not belong to every department).\n",
    "  Then we limit it to display the first 20 results.\n",
    "*/\n"
   ]
  },
  {
   "cell_type": "markdown",
   "metadata": {},
   "source": [
    "## CASE...WHEN\n",
    "\n",
    "The **CASE...WHEN** statement allows you to conditionally assign values to a column based on specific criteria. It's like creating an if-else logic within your SQL query."
   ]
  },
  {
   "cell_type": "code",
   "execution_count": null,
   "metadata": {},
   "outputs": [],
   "source": [
    "%%sql\n",
    "\n",
    "-- 1\n",
    "SELECT Product_Name,\n",
    "       CASE\n",
    "           WHEN Price < 2 THEN 'Cheap'\n",
    "           WHEN Price >= 2 AND Price <= 5 THEN 'Moderate'\n",
    "           ELSE 'Expensive'\n",
    "       END AS Price_Range\n",
    "FROM Product_Data;\n",
    "\n",
    "\n",
    "--2\n",
    "SELECT OrderID, Quantity,\n",
    "       CASE\n",
    "           WHEN Quantity <= 2 THEN 'Small Order'\n",
    "           ELSE 'Large Order'\n",
    "       END AS Order_Category\n",
    "FROM Orders;\n",
    "\n",
    "\n",
    "--3\n",
    "SELECT Product_Name, Price,\n",
    "       CASE\n",
    "           WHEN Product_Type = 'Fruit' AND Price < 2 THEN 'Cheap Fruit'\n",
    "           WHEN Product_Type = 'Meat' AND Price > 5 THEN 'Expensive Meat'\n",
    "           ELSE 'Other'\n",
    "       END AS Category\n",
    "FROM Product_Data;"
   ]
  }
 ],
 "metadata": {
  "kernelspec": {
   "display_name": "Python 3",
   "language": "python",
   "name": "python3"
  },
  "language_info": {
   "codemirror_mode": {
    "name": "ipython",
    "version": 3
   },
   "file_extension": ".py",
   "mimetype": "text/x-python",
   "name": "python",
   "nbconvert_exporter": "python",
   "pygments_lexer": "ipython3",
   "version": "3.12.4"
  }
 },
 "nbformat": 4,
 "nbformat_minor": 2
}
