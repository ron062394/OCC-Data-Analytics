{
 "cells": [
  {
   "cell_type": "markdown",
   "metadata": {},
   "source": [
    "# **Install ipykernel package**"
   ]
  },
  {
   "cell_type": "code",
   "execution_count": null,
   "metadata": {},
   "outputs": [],
   "source": [
    "%pip install ipykernel"
   ]
  },
  {
   "cell_type": "markdown",
   "metadata": {},
   "source": [
    "# **Python Key Points**\n",
    "1. **Interpreted Language**: Python is an interpreted language, which means that code is executed line by line by the Python interpreter. This allows for easier debugging and faster development cycles.\n",
    "2. **High-Level Language**: Python is designed to be human-readable and has a simple and easy-to-learn syntax. This makes it suitable for beginners and experienced programmers alike.\n",
    "3. **Dynamically Typed**: Python is dynamically typed, meaning that you don't need to declare variable types explicitly. The type of a variable is inferred at runtime based on the value assigned to it.\n",
    "4. **Indentation**: Python uses indentation to define code blocks instead of curly braces or keywords like begin and end. This enforces clean and readable code but can also lead to syntax errors if not used correctly.\n",
    "5. **Object-Oriented**: Python supports object-oriented programming (OOP) principles such as encapsulation, inheritance, and polymorphism. Everything in Python is an object, including integers, strings, functions, and classes.\n",
    "6. **Functional Programming Features**: While primarily an object-oriented language, Python also supports functional programming paradigms. It includes features like lambda functions, map, filter, and reduce functions, as well as support for list comprehensions.\n",
    "7. **Platform Independent**: Python code can run on any platform with a Python interpreter installed, including Windows, macOS, Linux, and UNIX. This makes Python highly portable and adaptable to different environments.\n",
    "8. **Community and Ecosystem**: Python has a large and active community of developers who contribute to its ecosystem by creating libraries, frameworks, and tools. This vibrant ecosystem makes it easy to find solutions to problems and accelerates development.\n",
    "9. **Versatile Usage**: Python is used for a wide range of applications, including web development, data science, machine learning, artificial intelligence, scientific computing, automation, scripting, and more. Its versatility and ease of use make it a popular choice across industries."
   ]
  },
  {
   "cell_type": "code",
   "execution_count": null,
   "metadata": {},
   "outputs": [],
   "source": []
  },
  {
   "cell_type": "markdown",
   "metadata": {},
   "source": [
    "## **Commenting**\n",
    "Commenting is the process of adding annotations or remarks within your code to provide explanations, context, or documentation. Comments are not executed by the interpreter/compiler and are purely for the benefit of developers reading the code.\n",
    "\n",
    "#### **Types of Comments:**"
   ]
  },
  {
   "cell_type": "markdown",
   "metadata": {},
   "source": [
    "- **Single-Line Comments:** These comments start with a specific character (e.g., # in Python) and continue until the end of the line. They are suitable for brief annotations or remarks on individual lines of code."
   ]
  },
  {
   "cell_type": "code",
   "execution_count": null,
   "metadata": {},
   "outputs": [],
   "source": []
  },
  {
   "cell_type": "markdown",
   "metadata": {},
   "source": [
    "- **Multi-Line Comments:** While many programming languages support multi-line comments, Python does not have an explicit syntax for them. However, multi-line strings (docstrings) enclosed in triple quotes (\"\"\") are often used for this purpose. They are primarily intended for documenting modules, classes, functions, and methods."
   ]
  },
  {
   "cell_type": "code",
   "execution_count": null,
   "metadata": {},
   "outputs": [],
   "source": []
  },
  {
   "cell_type": "markdown",
   "metadata": {},
   "source": [
    "- **Inline Comments:** Inline comments appear on the same line as code and provide additional context or explanation for that specific line of code. However, excessive use of inline comments can clutter the code and reduce readability, so they should be used sparingly and only when necessary."
   ]
  },
  {
   "cell_type": "markdown",
   "metadata": {},
   "source": [
    "## **Variables**\n",
    "\n",
    "#### **Creating Variables**\n",
    "\n",
    "Creating a variable in Python is simple. You assign a value to a variable name and start using it. Python figures out the variable type automatically.\n",
    "\n",
    "#### **Variable Naming Rules**\n",
    "- Variable names can contain letters (both uppercase and lowercase), digits, and underscores.\n",
    "- They must begin with a letter or an underscore (_), but not with a digit.\n",
    "- Case sensitive (myVar and myvar are different variables)\n",
    "- Python keywords cannot be used as variable names."
   ]
  },
  {
   "cell_type": "code",
   "execution_count": null,
   "metadata": {},
   "outputs": [],
   "source": []
  },
  {
   "cell_type": "markdown",
   "metadata": {},
   "source": [
    "## **Numeric Data Types**\n",
    "\n",
    "- **int** - Integer values, such as `5`, `-3`, `1000`, etc."
   ]
  },
  {
   "cell_type": "code",
   "execution_count": null,
   "metadata": {},
   "outputs": [],
   "source": []
  },
  {
   "cell_type": "markdown",
   "metadata": {},
   "source": [
    "- **float**: Floating-point values, representing decimal numbers, such as `3.14`, `-0.001`, `2.0`, etc."
   ]
  },
  {
   "cell_type": "code",
   "execution_count": null,
   "metadata": {},
   "outputs": [],
   "source": []
  },
  {
   "cell_type": "markdown",
   "metadata": {},
   "source": [
    "## **Operators and Expressions**\n",
    "\n",
    "### **Arithmetic Operators**"
   ]
  },
  {
   "cell_type": "code",
   "execution_count": null,
   "metadata": {},
   "outputs": [],
   "source": []
  },
  {
   "cell_type": "markdown",
   "metadata": {},
   "source": [
    "### **Assignment Operators**"
   ]
  },
  {
   "cell_type": "code",
   "execution_count": null,
   "metadata": {},
   "outputs": [],
   "source": []
  },
  {
   "cell_type": "markdown",
   "metadata": {},
   "source": [
    "## **Boolean Data Type**\n",
    "- **bool**: Boolean values representing True or False."
   ]
  },
  {
   "cell_type": "code",
   "execution_count": null,
   "metadata": {},
   "outputs": [],
   "source": []
  },
  {
   "cell_type": "markdown",
   "metadata": {},
   "source": [
    "### **Comparison Operators**"
   ]
  },
  {
   "cell_type": "code",
   "execution_count": null,
   "metadata": {},
   "outputs": [],
   "source": []
  },
  {
   "cell_type": "markdown",
   "metadata": {},
   "source": [
    "### **Logical Operators**"
   ]
  },
  {
   "cell_type": "code",
   "execution_count": null,
   "metadata": {},
   "outputs": [],
   "source": []
  },
  {
   "cell_type": "markdown",
   "metadata": {},
   "source": [
    "## **Strings and String Methods**\n",
    "\n",
    "Strings are sequences of characters and are among the most used data types in Python, especially in data analytics for processing text data.\n",
    "\n",
    "#### **Introduction to Strings**\n",
    "\n",
    "Strings in Python are created by enclosing characters in quotes. Python treats single quotes (') and double quotes (\") as the same, allowing you to incorporate one type of quote within another including an apostrophe within a string.\n",
    "\n",
    "#### **Creating and Accessing Strings**"
   ]
  },
  {
   "cell_type": "code",
   "execution_count": null,
   "metadata": {},
   "outputs": [],
   "source": []
  },
  {
   "cell_type": "markdown",
   "metadata": {},
   "source": [
    "### **String Methods**"
   ]
  },
  {
   "cell_type": "code",
   "execution_count": null,
   "metadata": {},
   "outputs": [],
   "source": []
  },
  {
   "cell_type": "markdown",
   "metadata": {},
   "source": [
    "### **Concatenation, Formatted String, and .format() Method**"
   ]
  },
  {
   "cell_type": "markdown",
   "metadata": {},
   "source": [
    "- **Concatenation**"
   ]
  },
  {
   "cell_type": "code",
   "execution_count": null,
   "metadata": {},
   "outputs": [],
   "source": []
  },
  {
   "cell_type": "markdown",
   "metadata": {},
   "source": [
    "- **Formatted Strings Literals (f-strings)** "
   ]
  },
  {
   "cell_type": "code",
   "execution_count": null,
   "metadata": {},
   "outputs": [],
   "source": []
  },
  {
   "cell_type": "markdown",
   "metadata": {},
   "source": [
    "- **.format() method**"
   ]
  },
  {
   "cell_type": "code",
   "execution_count": null,
   "metadata": {},
   "outputs": [],
   "source": []
  },
  {
   "cell_type": "markdown",
   "metadata": {},
   "source": [
    "## **Lists and List Methods**\n",
    "\n",
    "#### **Introduction to Lists**\n",
    "\n",
    "Lists are mutable sequences, meaning you can modify them after creation. They can contain items of any type, making them incredibly versatile for data collection and manipulation tasks.\n",
    "\n",
    "- Mutability: Lists are mutable, meaning their elements can be changed after creation.\n",
    "- Syntax: Lists are enclosed in square brackets ([]), and elements are separated by commas.\n",
    "- Indexing and Ordering: Lists are ordered collections, preserving the order of elements. Elements can be accessed using indices.\n",
    "- Usage: Lists are suitable for mutable sequences of items, like arrays, stacks, or queues.\n",
    "\n",
    "#### **Creating and Modifying Lists**"
   ]
  },
  {
   "cell_type": "code",
   "execution_count": null,
   "metadata": {},
   "outputs": [],
   "source": []
  },
  {
   "cell_type": "markdown",
   "metadata": {},
   "source": [
    "#### **List Methods**"
   ]
  },
  {
   "cell_type": "code",
   "execution_count": null,
   "metadata": {},
   "outputs": [],
   "source": []
  },
  {
   "cell_type": "markdown",
   "metadata": {},
   "source": [
    "#### **List Extending**"
   ]
  },
  {
   "cell_type": "code",
   "execution_count": null,
   "metadata": {},
   "outputs": [],
   "source": []
  },
  {
   "cell_type": "markdown",
   "metadata": {},
   "source": [
    "#### **Sorting List**"
   ]
  },
  {
   "cell_type": "code",
   "execution_count": null,
   "metadata": {},
   "outputs": [],
   "source": []
  },
  {
   "cell_type": "markdown",
   "metadata": {},
   "source": [
    "## **Dictionaries and Dictionary Methods**\n",
    "\n",
    "#### **Introduction to Dictionaries**\n",
    "\n",
    "Dictionaries in Python are unordered collections of items. While lists are indexed by a range of numbers, dictionaries are indexed by keys, which can be any immutable type; strings and numbers can always be keys.\n",
    "- Mutability: Dictionaries are mutable, meaning they can be modified by adding, updating, or removing key-value pairs.\n",
    "- Syntax: Dictionaries are enclosed in curly braces ({}), with key-value pairs separated by colons (:) and items separated by commas.\n",
    "- Indexing and Ordering: Dictionaries are unordered collections, and elements are accessed using keys rather than indices.\n",
    "- Usage: Dictionaries are suitable for key-value mappings, efficient lookup, and representing structured data\n",
    "\n",
    "#### **Creating a dictionary and accessing values**"
   ]
  },
  {
   "cell_type": "code",
   "execution_count": null,
   "metadata": {},
   "outputs": [],
   "source": []
  },
  {
   "cell_type": "markdown",
   "metadata": {},
   "source": [
    "#### **Dictionary Methods**"
   ]
  },
  {
   "cell_type": "code",
   "execution_count": null,
   "metadata": {},
   "outputs": [],
   "source": []
  },
  {
   "cell_type": "markdown",
   "metadata": {},
   "source": [
    "## **Control Flow and Statements**"
   ]
  },
  {
   "cell_type": "markdown",
   "metadata": {},
   "source": [
    "#### **Conditional Statements:** \n",
    "Allow us to execute different blocks of code based on a condition.\n",
    "\n",
    "- **if, elif, else statements**"
   ]
  },
  {
   "cell_type": "code",
   "execution_count": null,
   "metadata": {},
   "outputs": [],
   "source": []
  },
  {
   "cell_type": "markdown",
   "metadata": {},
   "source": [
    "- **match-case statements**"
   ]
  },
  {
   "cell_type": "code",
   "execution_count": null,
   "metadata": {},
   "outputs": [],
   "source": []
  },
  {
   "cell_type": "markdown",
   "metadata": {},
   "source": [
    "#### **Looping Statements:** \n",
    "Repeatedly execute a block of code until a specific condition is met.\n",
    "\n",
    "- **for Loop**"
   ]
  },
  {
   "cell_type": "code",
   "execution_count": null,
   "metadata": {},
   "outputs": [],
   "source": []
  },
  {
   "cell_type": "markdown",
   "metadata": {},
   "source": [
    "- **while loop**"
   ]
  },
  {
   "cell_type": "code",
   "execution_count": null,
   "metadata": {},
   "outputs": [],
   "source": []
  },
  {
   "cell_type": "markdown",
   "metadata": {},
   "source": [
    "## **Functions**\n",
    "\n",
    "- Groups code together into a block.\n",
    "- Allows us to call and reuse code efficently.\n",
    "- It could take in information (parameters) and return information (return statement) to the caller."
   ]
  },
  {
   "cell_type": "code",
   "execution_count": null,
   "metadata": {},
   "outputs": [],
   "source": []
  },
  {
   "cell_type": "markdown",
   "metadata": {},
   "source": [
    "#### **Functions with Parameters and Arguments**"
   ]
  },
  {
   "cell_type": "code",
   "execution_count": null,
   "metadata": {},
   "outputs": [],
   "source": []
  },
  {
   "cell_type": "markdown",
   "metadata": {},
   "source": [
    "#### **Arbitrary Argument** (*args)"
   ]
  },
  {
   "cell_type": "code",
   "execution_count": null,
   "metadata": {},
   "outputs": [],
   "source": []
  },
  {
   "cell_type": "markdown",
   "metadata": {},
   "source": [
    "#### **Arbitrary Keyword Arguments** (**kwargs)"
   ]
  },
  {
   "cell_type": "code",
   "execution_count": null,
   "metadata": {},
   "outputs": [],
   "source": []
  }
 ],
 "metadata": {
  "kernelspec": {
   "display_name": "Python 3",
   "language": "python",
   "name": "python3"
  },
  "language_info": {
   "codemirror_mode": {
    "name": "ipython",
    "version": 3
   },
   "file_extension": ".py",
   "mimetype": "text/x-python",
   "name": "python",
   "nbconvert_exporter": "python",
   "pygments_lexer": "ipython3",
   "version": "3.12.4"
  }
 },
 "nbformat": 4,
 "nbformat_minor": 2
}
